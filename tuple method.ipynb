{
 "cells": [
  {
   "cell_type": "markdown",
   "id": "834d92a3-042c-4573-8317-54fcac7acd90",
   "metadata": {},
   "source": [
    "1.Accessing Elements: You can access elements of a tuple using indexing."
   ]
  },
  {
   "cell_type": "code",
   "execution_count": 21,
   "id": "44df5c75-39da-4461-9a39-2ce93af61afe",
   "metadata": {},
   "outputs": [
    {
     "name": "stdout",
     "output_type": "stream",
     "text": [
      "2\n"
     ]
    }
   ],
   "source": [
    "my_tuple = (1, 2, 3, 4, 5)\n",
    "element = my_tuple[1]  \n",
    "print(element)"
   ]
  },
  {
   "cell_type": "markdown",
   "id": "3e4c707f-96b9-4e3f-8478-dc06f0fa1262",
   "metadata": {},
   "source": [
    "2. Slicing: You can slice a tuple to get a subset of it."
   ]
  },
  {
   "cell_type": "code",
   "execution_count": 20,
   "id": "59f00171-20e0-424b-83a2-33d8236e65b6",
   "metadata": {},
   "outputs": [
    {
     "name": "stdout",
     "output_type": "stream",
     "text": [
      "(2, 3)\n"
     ]
    }
   ],
   "source": [
    "my_tuple = (1, 2, 3, 4, 5)\n",
    "slice = my_tuple[1:3]  \n",
    "print(slice)"
   ]
  },
  {
   "cell_type": "markdown",
   "id": "b3670874-5d2d-4140-81fc-ed9565313731",
   "metadata": {},
   "source": [
    "3. Concatenation: You can concatenate tuples using the + operator."
   ]
  },
  {
   "cell_type": "code",
   "execution_count": 19,
   "id": "c347c5a2-b1c8-4fc6-b2f7-5e5bfac99ebb",
   "metadata": {},
   "outputs": [
    {
     "name": "stdout",
     "output_type": "stream",
     "text": [
      "(1, 2, 3, 4)\n"
     ]
    }
   ],
   "source": [
    "tuple1 = (1, 2)\n",
    "tuple2 = (3, 4)\n",
    "result = tuple1 + tuple2  \n",
    "print(result)"
   ]
  },
  {
   "cell_type": "markdown",
   "id": "17e917ef-3449-4b60-978a-ec2cdee60d29",
   "metadata": {},
   "source": [
    "4.Length: You can get the number of items in a tuple using the len() function. "
   ]
  },
  {
   "cell_type": "code",
   "execution_count": 18,
   "id": "0029251f-2457-4dee-a59b-ff67aa577ede",
   "metadata": {},
   "outputs": [
    {
     "name": "stdout",
     "output_type": "stream",
     "text": [
      "5\n"
     ]
    }
   ],
   "source": [
    "my_tuple = (1, 2, 3, 4, 5)\n",
    "length = len(my_tuple) \n",
    "print(length)"
   ]
  },
  {
   "cell_type": "markdown",
   "id": "05cb5289-2527-4915-b5f9-a957369305f5",
   "metadata": {},
   "source": [
    "5. Iterating: You can iterate over the elements of a tuple using a for loop."
   ]
  },
  {
   "cell_type": "code",
   "execution_count": 11,
   "id": "23c29372-7caa-443a-8ed9-4ff4396f9c6e",
   "metadata": {},
   "outputs": [
    {
     "name": "stdout",
     "output_type": "stream",
     "text": [
      "1\n",
      "2\n",
      "3\n",
      "4\n",
      "5\n"
     ]
    }
   ],
   "source": [
    "my_tuple = (1, 2, 3, 4, 5)\n",
    "for item in my_tuple:\n",
    "    print(item)"
   ]
  },
  {
   "cell_type": "markdown",
   "id": "26699ae3-70f7-42e0-b4ee-61a791ec3978",
   "metadata": {},
   "source": [
    "6.Unpacking: You can unpack a tuple into variables. "
   ]
  },
  {
   "cell_type": "code",
   "execution_count": 15,
   "id": "49dfc0cb-6300-4232-933e-cf28f1dcb7cb",
   "metadata": {},
   "outputs": [
    {
     "name": "stdout",
     "output_type": "stream",
     "text": [
      "1 2 3\n"
     ]
    }
   ],
   "source": [
    "my_tuple = (1, 2, 3)\n",
    "a, b, c = my_tuple  \n",
    "print(a,b,c)"
   ]
  },
  {
   "cell_type": "markdown",
   "id": "cce682f4-0319-4ce5-bbda-5856674a7ac7",
   "metadata": {},
   "source": [
    "7.Nested Tuples: Tuples can contain other tuples as elements. "
   ]
  },
  {
   "cell_type": "code",
   "execution_count": 16,
   "id": "8b71bc8d-9eb6-4615-8043-6fc161985c57",
   "metadata": {},
   "outputs": [
    {
     "name": "stdout",
     "output_type": "stream",
     "text": [
      "(2, 3)\n"
     ]
    }
   ],
   "source": [
    "nested_tuple = (1, (2, 3), (4, 5, 6))\n",
    "inner_tuple = nested_tuple[1]  \n",
    "print(inner_tuple)"
   ]
  },
  {
   "cell_type": "markdown",
   "id": "7d8496f7-2750-4bd5-a3ce-fa63da01b72e",
   "metadata": {},
   "source": [
    "8. Converting to Tuple: You can convert other data types to a tuple using the tuple() constructor."
   ]
  },
  {
   "cell_type": "code",
   "execution_count": 17,
   "id": "39f54392-b2ae-4d3b-9ed5-87002dca8971",
   "metadata": {},
   "outputs": [
    {
     "name": "stdout",
     "output_type": "stream",
     "text": [
      "(1, 2, 3)\n"
     ]
    }
   ],
   "source": [
    "my_list = [1, 2, 3]\n",
    "my_tuple = tuple(my_list) \n",
    "print(my_tuple)"
   ]
  },
  {
   "cell_type": "code",
   "execution_count": null,
   "id": "b7cd0cdd-520b-44f4-8f32-e350cdb00042",
   "metadata": {},
   "outputs": [],
   "source": []
  }
 ],
 "metadata": {
  "kernelspec": {
   "display_name": "Python 3 (ipykernel)",
   "language": "python",
   "name": "python3"
  },
  "language_info": {
   "codemirror_mode": {
    "name": "ipython",
    "version": 3
   },
   "file_extension": ".py",
   "mimetype": "text/x-python",
   "name": "python",
   "nbconvert_exporter": "python",
   "pygments_lexer": "ipython3",
   "version": "3.11.7"
  }
 },
 "nbformat": 4,
 "nbformat_minor": 5
}
