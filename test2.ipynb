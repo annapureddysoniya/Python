{
 "cells": [
  {
   "cell_type": "markdown",
   "id": "1cc9911a-2332-44ca-bf54-0aec51f2d5ef",
   "metadata": {},
   "source": [
    "Write a Python program to remove duplicates from a list.  "
   ]
  },
  {
   "cell_type": "code",
   "execution_count": 1,
   "id": "a58e8391-12fc-45cf-ad4b-e2a58c154ea2",
   "metadata": {},
   "outputs": [
    {
     "name": "stdout",
     "output_type": "stream",
     "text": [
      "[1, 2, 2, 6, 7]\n"
     ]
    }
   ],
   "source": [
    "numbers=[1,2,3,2,6,7]\n",
    "numbers.remove(3)\n",
    "print(numbers)"
   ]
  },
  {
   "cell_type": "markdown",
   "id": "0866bf2e-3305-468a-b832-68ebb2890a86",
   "metadata": {},
   "source": [
    "Write a python program to Find the Maximum Number in a List. "
   ]
  },
  {
   "cell_type": "code",
   "execution_count": 21,
   "id": "185c23ef-3a36-41ef-a4f3-fa63a9ee1fa0",
   "metadata": {},
   "outputs": [
    {
     "name": "stdin",
     "output_type": "stream",
     "text": [
      "enter the maximum number 1\n",
      "enter the maximum number 2\n",
      "enter the maximum number 3\n"
     ]
    },
    {
     "name": "stdout",
     "output_type": "stream",
     "text": [
      "the maximum number is : (1, 2, 3)\n"
     ]
    }
   ],
   "source": [
    "def find_max(a,b,c):\n",
    "    if a>b and b>c:\n",
    "        return a\n",
    "    elif b>a and a>c:\n",
    "        return b\n",
    "    else:\n",
    "        return c\n",
    "num1=int(input(\"enter the maximum number\"))\n",
    "num2=int(input(\"enter the maximum number\"))\n",
    "num3=int(input(\"enter the maximum number\"))\n",
    "print(\"the maximum number is :\",(num1,num2,num3))"
   ]
  },
  {
   "cell_type": "markdown",
   "id": "7a714ea7-8e50-4eb8-bfad-cab2a63cc773",
   "metadata": {},
   "source": [
    "Write a python program to Find the Minimum Number in a List.  "
   ]
  },
  {
   "cell_type": "code",
   "execution_count": 22,
   "id": "c9820ffb-35b4-4656-9492-0d86a61918f2",
   "metadata": {},
   "outputs": [
    {
     "name": "stdin",
     "output_type": "stream",
     "text": [
      "enter the minimum number 2\n",
      "enter the minimum number 3\n",
      "enter the minimum number 5\n"
     ]
    },
    {
     "name": "stdout",
     "output_type": "stream",
     "text": [
      "the minimum number is : (2, 3, 5)\n"
     ]
    }
   ],
   "source": [
    "def find_min(a,b,c):\n",
    "    if a>b and b>c:\n",
    "        return a\n",
    "    elif b>a and a>c:\n",
    "        return b\n",
    "    else:\n",
    "        return c\n",
    "num1=int(input(\"enter the minimum number\"))\n",
    "num2=int(input(\"enter the minimum number\"))\n",
    "num3=int(input(\"enter the minimum number\"))\n",
    "print(\"the minimum number is :\",(num1,num2,num3))"
   ]
  },
  {
   "cell_type": "markdown",
   "id": "78430e4f-b033-47aa-86ee-d135ff8d886e",
   "metadata": {},
   "source": [
    "Python Program to find smallest number among three. "
   ]
  },
  {
   "cell_type": "code",
   "execution_count": 35,
   "id": "50e2cdbf-c7de-4890-8509-8a6e0225f2d4",
   "metadata": {},
   "outputs": [
    {
     "name": "stdin",
     "output_type": "stream",
     "text": [
      " 2\n",
      " 4\n",
      " 6\n"
     ]
    },
    {
     "name": "stdout",
     "output_type": "stream",
     "text": [
      "c is smallest number\n"
     ]
    }
   ],
   "source": [
    "a=input()\n",
    "b=input()\n",
    "c=input()\n",
    "\n",
    "if a>b>c:\n",
    "    print(\"a is smallest number\")\n",
    "elif a>b<c:\n",
    "    print(\"b is smallest number\")\n",
    "else:\n",
    "    print(\"c is smallest number\")"
   ]
  },
  {
   "cell_type": "markdown",
   "id": "497b0428-8d73-4e7c-b8ab-bf74fc4c31c6",
   "metadata": {},
   "source": [
    "Python Program to sort characters of string in ascending order.  \n"
   ]
  },
  {
   "cell_type": "code",
   "execution_count": 42,
   "id": "92d136b4-1102-40e4-b56a-a51fdf8a2f6e",
   "metadata": {},
   "outputs": [
    {
     "name": "stdout",
     "output_type": "stream",
     "text": [
      "[0, 0, 0, 1, 3, 6, 6, 7, 7, 8]\n"
     ]
    }
   ],
   "source": [
    "numbers=[7,0,3,6,1,6,7,8,0,0]\n",
    "numbers.sort()\n",
    "print(numbers)"
   ]
  },
  {
   "cell_type": "markdown",
   "id": "b21bbda5-2a46-4246-acd2-5d758cc5dde9",
   "metadata": {},
   "source": [
    "Python Program to sort character of string in descending order. "
   ]
  },
  {
   "cell_type": "code",
   "execution_count": 43,
   "id": "948ffd71-3b94-4141-8d3d-ad9b8095ab33",
   "metadata": {},
   "outputs": [
    {
     "name": "stdout",
     "output_type": "stream",
     "text": [
      "[0, 0, 8, 7, 6, 1, 6, 3, 0, 7]\n"
     ]
    }
   ],
   "source": [
    "numbers=[7,0,3,6,1,6,7,8,0,0]\n",
    "numbers.reverse()\n",
    "print(numbers)"
   ]
  },
  {
   "cell_type": "markdown",
   "id": "19bc1c4e-4573-4f97-86ec-8dc7d5fa5029",
   "metadata": {},
   "source": [
    "Python Program to calculate the square of a given number. "
   ]
  },
  {
   "cell_type": "code",
   "execution_count": 63,
   "id": "8d53116f-a69c-4300-aea2-d98ce20b6138",
   "metadata": {},
   "outputs": [
    {
     "name": "stdout",
     "output_type": "stream",
     "text": [
      "2\n"
     ]
    }
   ],
   "source": [
    "def find_square():\n",
    "    results=a\n",
    "    print(results)\n",
    "find_square()    "
   ]
  },
  {
   "cell_type": "markdown",
   "id": "023fc256-4d98-4283-8298-7ed6aa870474",
   "metadata": {},
   "source": [
    "Write a python Program to Count the Number of Occurrences of a Character in a String. "
   ]
  },
  {
   "cell_type": "code",
   "execution_count": 70,
   "id": "a081a967-9415-44c7-8cdb-77d627c602a7",
   "metadata": {},
   "outputs": [
    {
     "name": "stdout",
     "output_type": "stream",
     "text": [
      "2\n"
     ]
    }
   ],
   "source": [
    "numbers=[1,2,5,8,3,9,7,3,2]\n",
    "count=numbers.count(3)\n",
    "print(count)"
   ]
  },
  {
   "cell_type": "markdown",
   "id": "9564fa71-0eb4-4c2d-aaf0-6795211c72a0",
   "metadata": {},
   "source": [
    "Write a Python program to remove duplicates from a list. "
   ]
  },
  {
   "cell_type": "code",
   "execution_count": null,
   "id": "5015865e-4332-486e-ae0c-ce101340f490",
   "metadata": {},
   "outputs": [],
   "source": [
    "numbers"
   ]
  }
 ],
 "metadata": {
  "kernelspec": {
   "display_name": "Python 3 (ipykernel)",
   "language": "python",
   "name": "python3"
  },
  "language_info": {
   "codemirror_mode": {
    "name": "ipython",
    "version": 3
   },
   "file_extension": ".py",
   "mimetype": "text/x-python",
   "name": "python",
   "nbconvert_exporter": "python",
   "pygments_lexer": "ipython3",
   "version": "3.11.7"
  }
 },
 "nbformat": 4,
 "nbformat_minor": 5
}
