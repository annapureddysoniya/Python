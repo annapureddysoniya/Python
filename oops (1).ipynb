{
 "cells": [
  {
   "cell_type": "code",
   "execution_count": 15,
   "id": "45c3639f-c17e-4808-80f1-8e040726be7d",
   "metadata": {},
   "outputs": [
    {
     "name": "stdout",
     "output_type": "stream",
     "text": [
      "Buddyis3year old.\n",
      "bow!\n"
     ]
    }
   ],
   "source": [
    "class Dog:\n",
    "    def __init__(self,name,age):\n",
    "        self.name=name\n",
    "        self.age=age\n",
    "    def bark(self):\n",
    "        print(\"bow!\")\n",
    "dog1=Dog(\"Buddy\",3)\n",
    "print(f\"{dog1.name}is{dog1.age}year old.\")\n",
    "dog1.bark()"
   ]
  },
  {
   "cell_type": "code",
   "execution_count": 19,
   "id": "fea511e4-c849-4f13-89a9-168220e682dd",
   "metadata": {},
   "outputs": [
    {
     "name": "stdout",
     "output_type": "stream",
     "text": [
      "5\n"
     ]
    }
   ],
   "source": [
    "class Myclass:\n",
    "    x=5\n",
    "    \n",
    "obj1=Myclass()\n",
    "print(obj1.x)"
   ]
  },
  {
   "cell_type": "code",
   "execution_count": 23,
   "id": "073bd11b-4423-4956-8f2d-6902fa033654",
   "metadata": {},
   "outputs": [
    {
     "name": "stdout",
     "output_type": "stream",
     "text": [
      "dukein2020 it is my favourite.\n",
      "harn!\n"
     ]
    }
   ],
   "source": [
    "class bike:\n",
    "    def __init__(self,name,model):\n",
    "        self.name=name\n",
    "        self.model=model\n",
    "    def harn(self):\n",
    "        print(\"harn!\")\n",
    "bike=bike(\"duke\",2020)\n",
    "print(f\"{bike.name}in{bike.model} it is my favourite.\")\n",
    "bike.harn()\n",
    "        "
   ]
  },
  {
   "cell_type": "code",
   "execution_count": 35,
   "id": "fb6d254e-ba41-4062-9117-50d252c4ccb6",
   "metadata": {},
   "outputs": [
    {
     "name": "stdout",
     "output_type": "stream",
     "text": [
      "chikuis3 years old.\n",
      "buddyis8years old.\n",
      "meow!\n",
      "meow!\n"
     ]
    }
   ],
   "source": [
    "class cat:\n",
    "    def __init__(self,name,age):\n",
    "        self.age=age\n",
    "        self.name=name\n",
    "    def meow(self):\n",
    "        print(\"meow!\")\n",
    "cat1=cat(\"chiku\",3)\n",
    "cat2=cat(\"buddy\",8)\n",
    "print(f\"{cat1.name}is{cat1.age} years old.\")\n",
    "print(f\"{cat2.name}is{cat2.age}years old.\")\n",
    "cat1.meow()\n",
    "cat2.meow()"
   ]
  },
  {
   "cell_type": "code",
   "execution_count": 30,
   "id": "fc97e3a8-22e5-4025-82a1-7cca0d0d0c34",
   "metadata": {},
   "outputs": [
    {
     "name": "stdout",
     "output_type": "stream",
     "text": [
      "soniya is roll num 21 of the bits\n",
      "sunitha is roll num 1 of the st joseph\n"
     ]
    }
   ],
   "source": [
    "class student:\n",
    "    def __init__(self,name,rollnum,collegename):\n",
    "        self.name=name\n",
    "        self.rollnum=rollnum\n",
    "        self.collegename =collegename\n",
    "    def __str__(self):\n",
    "        return f\"{self.name},{self.rollnum},{self.collgename}\"\n",
    "student1=student(\"soniya\",21,\"bits\")\n",
    "student2=student(\"sunitha\",1,\"st joseph\")\n",
    "print(f\"{student1.name} is roll num {student1.rollnum} of the {student1.collegename}\")\n",
    "print(f\"{student2.name} is roll num {student2.rollnum} of the {student2.collegename}\")"
   ]
  },
  {
   "cell_type": "code",
   "execution_count": 14,
   "id": "d2bb00ed-9041-4536-83bc-37070d62285f",
   "metadata": {},
   "outputs": [
    {
     "name": "stdout",
     "output_type": "stream",
     "text": [
      "charminar,hyderabad\n",
      "tajmahal,agra\n"
     ]
    }
   ],
   "source": [
    "class trip:\n",
    "    def __init__(self,name,location):\n",
    "        self.name=name\n",
    "        self.location=location\n",
    "    def __str__(self):\n",
    "        return f\"{self.name},{self.location}\"\n",
    "trip1=trip(name=\"charminar\",location=\"hyderabad\")\n",
    "trip2=trip(name=\"tajmahal\",location=\"agra\")\n",
    "print(trip1)\n",
    "print(trip2)"
   ]
  },
  {
   "cell_type": "code",
   "execution_count": 18,
   "id": "9deee652-f101-4fbd-8790-1348b2ea82e2",
   "metadata": {},
   "outputs": [
    {
     "name": "stdout",
     "output_type": "stream",
     "text": [
      "apple,120000\n",
      "iqoo,50000\n"
     ]
    }
   ],
   "source": [
    "class mobile:\n",
    "    def __init__(self,name,price):\n",
    "        self.name=name\n",
    "        self.price=price\n",
    "    def __str__(self):\n",
    "        return f\"{self.name},{self.price}\"\n",
    "mobile1=mobile(name=\"apple\",price=120000)\n",
    "mobile2=mobile(name=\"iqoo\",price=50000)\n",
    "print(mobile1)\n",
    "print(mobile2)\n",
    "    "
   ]
  },
  {
   "cell_type": "code",
   "execution_count": 31,
   "id": "7a9c658e-ff86-4350-a6fb-ad7953523adb",
   "metadata": {},
   "outputs": [
    {
     "name": "stdout",
     "output_type": "stream",
     "text": [
      "soniya work in tcs in hyderabad\n",
      "supraja work in infosys in bengloor\n",
      "navena work in wipro in chennai\n"
     ]
    }
   ],
   "source": [
    "class person:\n",
    "    def __init__(self,name,company,location):\n",
    "        self.name=name\n",
    "        self.company=company\n",
    "        self.location=location\n",
    "    def __str__(self):\n",
    "        return f\"{self.name} work in {self.company} in {self.location}\"\n",
    "person1=person(name=\"soniya\",company=\"tcs\",location=\"hyderabad\")    \n",
    "person2=person(name=\"supraja\",company=\"infosys\",location=\"bengloor\")    \n",
    "person3=person(name=\"navena\",company=\"wipro\",location=\"chennai\") \n",
    "print(person1)\n",
    "print(person2)\n",
    "print(person3)"
   ]
  },
  {
   "cell_type": "code",
   "execution_count": null,
   "id": "3491c8ba-ab7c-4235-8b3d-d6c6fa900420",
   "metadata": {},
   "outputs": [],
   "source": []
  }
 ],
 "metadata": {
  "kernelspec": {
   "display_name": "Python 3 (ipykernel)",
   "language": "python",
   "name": "python3"
  },
  "language_info": {
   "codemirror_mode": {
    "name": "ipython",
    "version": 3
   },
   "file_extension": ".py",
   "mimetype": "text/x-python",
   "name": "python",
   "nbconvert_exporter": "python",
   "pygments_lexer": "ipython3",
   "version": "3.11.7"
  }
 },
 "nbformat": 4,
 "nbformat_minor": 5
}
