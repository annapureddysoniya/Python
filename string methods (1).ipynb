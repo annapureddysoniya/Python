{
 "cells": [
  {
   "cell_type": "markdown",
   "id": "c368c3bc-0f21-487a-b704-36665b423c8e",
   "metadata": {},
   "source": [
    "1. str.capitalize()"
   ]
  },
  {
   "cell_type": "markdown",
   "id": "859e7e49-17e3-4140-85d8-52e8836589f3",
   "metadata": {},
   "source": [
    "Capitalizes the first character of the string."
   ]
  },
  {
   "cell_type": "code",
   "execution_count": 18,
   "id": "453a12a8-5584-425f-b8c6-6ed1d5642fbc",
   "metadata": {},
   "outputs": [
    {
     "name": "stdout",
     "output_type": "stream",
     "text": [
      "Soniya annapureddy\n"
     ]
    }
   ],
   "source": [
    "text = \"soniya annapureddy\"\n",
    "print(text.capitalize())  \n"
   ]
  },
  {
   "cell_type": "markdown",
   "id": "99a044a4-1098-48c5-9f2d-c611789dc9ee",
   "metadata": {},
   "source": [
    "2. str.title()"
   ]
  },
  {
   "cell_type": "markdown",
   "id": "11ab4c46-ccf9-40e4-8e86-a9fa3b2ebe0d",
   "metadata": {},
   "source": [
    "Capitalizes the first character of each word in the string."
   ]
  },
  {
   "cell_type": "code",
   "execution_count": 19,
   "id": "9f5536ca-6488-45d4-813d-9bee21c4f0d6",
   "metadata": {},
   "outputs": [
    {
     "name": "stdout",
     "output_type": "stream",
     "text": [
      "Soniya Annapureddy\n"
     ]
    }
   ],
   "source": [
    "text = \"soniya annapureddy\"\n",
    "print(text.title()) \n"
   ]
  },
  {
   "cell_type": "markdown",
   "id": "4adb2e69-122d-46d8-af4c-d8bf14f8f516",
   "metadata": {},
   "source": [
    "3. str.lstrip()\n",
    "\n"
   ]
  },
  {
   "cell_type": "markdown",
   "id": "82cddb57-9fe1-4d9a-a3fc-473114f9d4f5",
   "metadata": {},
   "source": [
    "Removes leading whitespace from the string.\n"
   ]
  },
  {
   "cell_type": "code",
   "execution_count": 8,
   "id": "aa996874-5427-44be-a230-56b31e7391c8",
   "metadata": {},
   "outputs": [
    {
     "name": "stdout",
     "output_type": "stream",
     "text": [
      "hello world\n"
     ]
    }
   ],
   "source": [
    "text = \"  hello world\"\n",
    "print(text.lstrip()) \n"
   ]
  },
  {
   "cell_type": "markdown",
   "id": "e18769c2-536f-4e07-99f5-405e3c11c783",
   "metadata": {},
   "source": [
    "4. str.rstrip()"
   ]
  },
  {
   "cell_type": "markdown",
   "id": "c1657904-6b21-425b-b5fa-5d000eb62bf5",
   "metadata": {},
   "source": [
    "Removes trailing whitespace from the string.\n"
   ]
  },
  {
   "cell_type": "code",
   "execution_count": 9,
   "id": "a027f66b-6083-4808-a8de-5e9b1de05a44",
   "metadata": {},
   "outputs": [
    {
     "name": "stdout",
     "output_type": "stream",
     "text": [
      "hello world\n"
     ]
    }
   ],
   "source": [
    "text = \"hello world  \"\n",
    "print(text.rstrip())  \n"
   ]
  },
  {
   "cell_type": "markdown",
   "id": "18fc9cd7-5612-421d-8d65-8c06ed076bcb",
   "metadata": {},
   "source": [
    "5. str.find(substring)\n",
    "\n"
   ]
  },
  {
   "cell_type": "markdown",
   "id": "38f1e20f-1e12-42ee-8b45-da11d5bb855e",
   "metadata": {},
   "source": [
    "Returns the lowest index of the substring if it is found, otherwise returns -1.\n"
   ]
  },
  {
   "cell_type": "code",
   "execution_count": 11,
   "id": "a9a79baf-7909-4732-8cd1-ba9622aba224",
   "metadata": {},
   "outputs": [
    {
     "name": "stdout",
     "output_type": "stream",
     "text": [
      "6\n"
     ]
    }
   ],
   "source": [
    "text = \"hello world\"\n",
    "print(text.find(\"world\")) \n"
   ]
  },
  {
   "cell_type": "markdown",
   "id": "6b754bee-1825-455b-b432-e3ee613652b8",
   "metadata": {},
   "source": [
    "7.str.index(substring)"
   ]
  },
  {
   "cell_type": "markdown",
   "id": "b64777bb-f844-4dba-8440-33a58a493203",
   "metadata": {},
   "source": [
    "Similar to find(), but raises a ValueError if the substring is not found\n"
   ]
  },
  {
   "cell_type": "code",
   "execution_count": 12,
   "id": "0b2c9f95-85d5-4561-a200-fd959fcfa910",
   "metadata": {},
   "outputs": [
    {
     "name": "stdout",
     "output_type": "stream",
     "text": [
      "6\n"
     ]
    }
   ],
   "source": [
    "text = \"hello world\"\n",
    "print(text.index(\"world\"))  # Output: 6\n"
   ]
  },
  {
   "cell_type": "markdown",
   "id": "1ecf3d2a-83af-436f-8474-dab58c30ad0c",
   "metadata": {},
   "source": [
    "8.str.startswith(prefix)"
   ]
  },
  {
   "cell_type": "markdown",
   "id": "157773d0-c3de-4628-a113-cf7b2ea708af",
   "metadata": {},
   "source": [
    "Returns True if the string starts with the specified prefix, otherwise returns False.\n"
   ]
  },
  {
   "cell_type": "code",
   "execution_count": 15,
   "id": "a861b908-4d4f-42ad-85f9-08db2192e8ef",
   "metadata": {},
   "outputs": [
    {
     "name": "stdout",
     "output_type": "stream",
     "text": [
      "True\n"
     ]
    }
   ],
   "source": [
    "text = \"hello world\"\n",
    "print(text.startswith(\"hello\"))  \n"
   ]
  },
  {
   "cell_type": "markdown",
   "id": "da7ab090-4729-4db8-be89-275f550d1073",
   "metadata": {},
   "source": [
    "9.str.endswith(suffix)"
   ]
  },
  {
   "cell_type": "markdown",
   "id": "faedf206-670b-403c-a886-4e8112442bb7",
   "metadata": {},
   "source": [
    "Returns True if the string ends with the specified suffix, otherwise returns False."
   ]
  },
  {
   "cell_type": "code",
   "execution_count": 16,
   "id": "7430838a-724b-4566-b3ea-e54094916251",
   "metadata": {},
   "outputs": [
    {
     "name": "stdout",
     "output_type": "stream",
     "text": [
      "True\n"
     ]
    }
   ],
   "source": [
    "text = \"hello world\"\n",
    "print(text.endswith(\"world\"))\n"
   ]
  },
  {
   "cell_type": "markdown",
   "id": "e96633e8-e150-49db-a44e-5789dd9b741b",
   "metadata": {},
   "source": [
    "10. str.swapcase()"
   ]
  },
  {
   "cell_type": "markdown",
   "id": "5388ca11-0ac2-44b1-966f-b1f240a873ee",
   "metadata": {},
   "source": [
    "Swaps the case of all characters in the string (uppercase to lowercase and vice versa).\n"
   ]
  },
  {
   "cell_type": "code",
   "execution_count": 17,
   "id": "12ba0510-3659-4b95-a1a4-c4d4b94bca3b",
   "metadata": {},
   "outputs": [
    {
     "name": "stdout",
     "output_type": "stream",
     "text": [
      "hELLO wORLD\n"
     ]
    }
   ],
   "source": [
    "text = \"Hello World\"\n",
    "print(text.swapcase()) \n"
   ]
  },
  {
   "cell_type": "code",
   "execution_count": null,
   "id": "a4a21309-a8b8-4a87-84f9-2fb533abe83a",
   "metadata": {},
   "outputs": [],
   "source": []
  }
 ],
 "metadata": {
  "kernelspec": {
   "display_name": "Python 3 (ipykernel)",
   "language": "python",
   "name": "python3"
  },
  "language_info": {
   "codemirror_mode": {
    "name": "ipython",
    "version": 3
   },
   "file_extension": ".py",
   "mimetype": "text/x-python",
   "name": "python",
   "nbconvert_exporter": "python",
   "pygments_lexer": "ipython3",
   "version": "3.11.7"
  }
 },
 "nbformat": 4,
 "nbformat_minor": 5
}
