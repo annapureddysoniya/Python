{
 "cells": [
  {
   "cell_type": "markdown",
   "id": "45173a18-8251-4992-8dcf-eabc6022f571",
   "metadata": {},
   "source": [
    "remote by using inheritance :"
   ]
  },
  {
   "cell_type": "code",
   "execution_count": 29,
   "id": "8e1e404a-f570-4b1c-9520-3af49316162c",
   "metadata": {},
   "outputs": [
    {
     "name": "stdout",
     "output_type": "stream",
     "text": [
      "click the power on button\n",
      "click the power off button\n",
      "Volume up!\n",
      "Volume down!\n",
      "Channel up!\n",
      "Channel down!\n",
      "Pause the channel!\n"
     ]
    }
   ],
   "source": [
    "class remote:# base class\n",
    "    def on ():\n",
    "        print(\"click the power on button\")\n",
    "    def off():\n",
    "        print(\"click the power off button\")\n",
    "class volume(remote):\n",
    "    def volume_up():\n",
    "        print(\"volume_up!\")\n",
    "    def volume_down():\n",
    "        print(\"volume_down!\")\n",
    "class channel(remote):\n",
    "    def channel_up():\n",
    "        print(\"channel_up!\")\n",
    "    def channel_down():\n",
    "        print(\"channel_down!\")\n",
    "class pause(remote):\n",
    "    def play():\n",
    "        print(\"play the channel!\")\n",
    "remote1.on()\n",
    "remote1.off()\n",
    "volume_remote.volume_up()\n",
    "volume_remote.volume_down()\n",
    "channel_remote.channel_up()\n",
    "channel_remote.channel_down()\n",
    "pause_remote.pause()"
   ]
  },
  {
   "cell_type": "code",
   "execution_count": null,
   "id": "919d33cd-99fc-4def-89fc-2d7349dc432d",
   "metadata": {},
   "outputs": [],
   "source": []
  },
  {
   "cell_type": "markdown",
   "id": "a8c620ea-553b-4566-8335-6551124cb8e7",
   "metadata": {},
   "source": [
    "tv using inheritance :"
   ]
  },
  {
   "cell_type": "code",
   "execution_count": 55,
   "id": "29b0b373-a60e-4cdb-a2f8-0c5e98f93242",
   "metadata": {},
   "outputs": [
    {
     "name": "stdout",
     "output_type": "stream",
     "text": [
      "switch on\n",
      "switch off\n",
      "press the power button on\n",
      "press the power button off\n",
      "screen is display\n",
      "screen is close \n",
      "channel up\n",
      "channel down\n",
      "volume up\n",
      "volume down\n"
     ]
    }
   ],
   "source": [
    "class tv:\n",
    "    def switch_on ():\n",
    "        print(\"switch on\")\n",
    "    def switch_off ():\n",
    "        print(\"switch off\")\n",
    "        \n",
    "class remote(tv):\n",
    "    def power_button_on():\n",
    "        print(\"press the power button on\")\n",
    "    def power_button_off():\n",
    "        print(\"press the power button off\")\n",
    "        \n",
    "class screen(tv):\n",
    "    def screen_open ():\n",
    "        print(\"screen is display\")\n",
    "    def screen_close():\n",
    "        print(\"screen is close \")\n",
    "        \n",
    "class channel(tv):\n",
    "    def channel_up():\n",
    "        print(\"channel up\")\n",
    "    def channel_down ():\n",
    "        print(\"channel down\")\n",
    "        \n",
    "class volume(tv):\n",
    "    def volume_up ():\n",
    "        print(\"volume up\")\n",
    "    def volume_down ():\n",
    "        print(\"volume down\")\n",
    "tv.switch_on()\n",
    "tv.switch_off()\n",
    "remote.power_button_on()\n",
    "remote.power_button_off()\n",
    "screen.screen_open()\n",
    "screen.screen_close()\n",
    "channel.channel_up()\n",
    "channel.channel_down()\n",
    "volume.volume_up()\n",
    "volume.volume_down()\n"
   ]
  },
  {
   "cell_type": "code",
   "execution_count": null,
   "id": "cd98c3b8-7f8f-49d8-ac8d-0bc3c0437303",
   "metadata": {},
   "outputs": [],
   "source": []
  },
  {
   "cell_type": "markdown",
   "id": "7cd3c006-449e-469c-a2f9-527ceea6bf2e",
   "metadata": {},
   "source": [
    "ac using inheritance :"
   ]
  },
  {
   "cell_type": "code",
   "execution_count": null,
   "id": "a7f391c9-3784-409e-b9c1-0c2f69884b19",
   "metadata": {},
   "outputs": [],
   "source": []
  },
  {
   "cell_type": "code",
   "execution_count": null,
   "id": "6e918e33-7f49-415e-b21e-0091374899cd",
   "metadata": {},
   "outputs": [],
   "source": []
  },
  {
   "cell_type": "code",
   "execution_count": 58,
   "id": "8ce9a10f-ec87-4185-8836-22af61d4e520",
   "metadata": {},
   "outputs": [
    {
     "name": "stdout",
     "output_type": "stream",
     "text": [
      "switch on\n",
      "switch off\n",
      "speed up\n",
      "speed down\n",
      "on button\n",
      "off button\n",
      "fan speed is auto\n",
      "fan speed is medium\n",
      "fan speed is high\n"
     ]
    }
   ],
   "source": [
    "class ac:\n",
    "    def switch_on():\n",
    "        print(\"switch on\")\n",
    "    def switch_off():\n",
    "        print(\"switch off\")\n",
    "class remote(ac):\n",
    "    def speed_up():\n",
    "        print(\"speed up\")\n",
    "    def speed_down():\n",
    "        print(\"speed down\")\n",
    "class button(ac):\n",
    "    def on_button():\n",
    "        print(\"on button\")\n",
    "    def off_button():\n",
    "        print(\"off button\")\n",
    "class fan(ac):\n",
    "    def auto():\n",
    "        print(\"fan speed is auto\")\n",
    "    def medium():\n",
    "        print(\"fan speed is medium\")\n",
    "    def high():\n",
    "        print(\"fan speed is high\")\n",
    "ac.switch_on()\n",
    "ac.switch_off()\n",
    "remote.speed_up()\n",
    "remote.speed_down()\n",
    "button.on_button()\n",
    "button.off_button()\n",
    "fan.auto()\n",
    "fan.medium()\n",
    "fan.high()"
   ]
  },
  {
   "cell_type": "code",
   "execution_count": null,
   "id": "27620f02-9ef1-4d03-b537-331572e60ef8",
   "metadata": {},
   "outputs": [],
   "source": []
  }
 ],
 "metadata": {
  "kernelspec": {
   "display_name": "Python 3 (ipykernel)",
   "language": "python",
   "name": "python3"
  },
  "language_info": {
   "codemirror_mode": {
    "name": "ipython",
    "version": 3
   },
   "file_extension": ".py",
   "mimetype": "text/x-python",
   "name": "python",
   "nbconvert_exporter": "python",
   "pygments_lexer": "ipython3",
   "version": "3.11.7"
  }
 },
 "nbformat": 4,
 "nbformat_minor": 5
}
