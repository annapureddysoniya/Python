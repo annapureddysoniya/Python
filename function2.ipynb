{
 "cells": [
  {
   "cell_type": "code",
   "execution_count": 9,
   "id": "40dcd03c-87f1-4a4a-9aae-117232d4db33",
   "metadata": {},
   "outputs": [
    {
     "data": {
      "text/plain": [
       "27"
      ]
     },
     "execution_count": 9,
     "metadata": {},
     "output_type": "execute_result"
    }
   ],
   "source": [
    "def find_cube(num):\n",
    "    result=num*num*num\n",
    "    return result\n",
    "find_cube(3)"
   ]
  },
  {
   "cell_type": "code",
   "execution_count": 11,
   "id": "33b1bffc-82ca-4149-9301-d606cf3e4de3",
   "metadata": {},
   "outputs": [
    {
     "data": {
      "text/plain": [
       "12"
      ]
     },
     "execution_count": 11,
     "metadata": {},
     "output_type": "execute_result"
    }
   ],
   "source": [
    "def find_square(num):\n",
    "    result=num*num+num\n",
    "    return result\n",
    "find_square(3)"
   ]
  },
  {
   "cell_type": "markdown",
   "id": "6dbb4813-9c43-48d8-8d12-b6ffde8537e4",
   "metadata": {},
   "source": [
    "- adding 3 numbers"
   ]
  },
  {
   "cell_type": "code",
   "execution_count": 3,
   "id": "970261b1-fe70-4a87-9c8f-1644244ece40",
   "metadata": {},
   "outputs": [
    {
     "name": "stdout",
     "output_type": "stream",
     "text": [
      "18\n"
     ]
    }
   ],
   "source": [
    "def find_adding(numbers):\n",
    "    results=numbers+numbers+numbers\n",
    "    print(results)\n",
    "find_adding(6)"
   ]
  },
  {
   "cell_type": "markdown",
   "id": "24406821-3ef8-4f41-ad4e-cf7e15b60a63",
   "metadata": {},
   "source": [
    "- subtraction of 2 numbers"
   ]
  },
  {
   "cell_type": "code",
   "execution_count": 9,
   "id": "8f73a177-ae62-4dfa-9a0b-252f14860ebd",
   "metadata": {},
   "outputs": [
    {
     "name": "stdout",
     "output_type": "stream",
     "text": [
      "(0, 5)\n"
     ]
    }
   ],
   "source": [
    "def find_subtraction(numbers):\n",
    "    results=numbers-numbers,10-5\n",
    "    print(results)\n",
    "find_subtraction(10-5)"
   ]
  },
  {
   "cell_type": "markdown",
   "id": "9f0a8cf2-7e19-403e-80d5-2ac01dcb72c3",
   "metadata": {},
   "source": [
    "- Multiplication of 2 numbers"
   ]
  },
  {
   "cell_type": "code",
   "execution_count": 12,
   "id": "5eb8b425-28bb-4a19-998e-990286f6da49",
   "metadata": {},
   "outputs": [
    {
     "name": "stdout",
     "output_type": "stream",
     "text": [
      "2500\n"
     ]
    }
   ],
   "source": [
    "def find_multiplication(numbers):\n",
    "    results=numbers*numbers\n",
    "    print(results)\n",
    "find_multiplication(10*5)"
   ]
  },
  {
   "cell_type": "markdown",
   "id": "aaa58df4-f7a0-406e-afb5-3e86795f02c9",
   "metadata": {},
   "source": [
    "- Divisionof 2 numbers"
   ]
  },
  {
   "cell_type": "code",
   "execution_count": 17,
   "id": "5cd13311-5caf-46a1-84be-346122b0b929",
   "metadata": {},
   "outputs": [
    {
     "name": "stdout",
     "output_type": "stream",
     "text": [
      "1.0\n"
     ]
    }
   ],
   "source": [
    "def find_division(num):\n",
    "    results=num/num\n",
    "    print(results)\n",
    "find_division(10/3)"
   ]
  },
  {
   "cell_type": "markdown",
   "id": "4def5e40-8008-40d7-9818-339980f0472c",
   "metadata": {},
   "source": [
    "- Modulus of 2 numbers"
   ]
  },
  {
   "cell_type": "code",
   "execution_count": 25,
   "id": "863b2e3b-c8b1-48ca-8493-f465af588de4",
   "metadata": {},
   "outputs": [
    {
     "name": "stdout",
     "output_type": "stream",
     "text": [
      "0\n"
     ]
    }
   ],
   "source": [
    "def find_modulus(num):\n",
    "    results=num%num\n",
    "    print(results)\n",
    "find_modulus(20%100)"
   ]
  },
  {
   "cell_type": "code",
   "execution_count": null,
   "id": "6a68199a-5ee4-498e-b041-949d1ccd1947",
   "metadata": {},
   "outputs": [],
   "source": []
  }
 ],
 "metadata": {
  "kernelspec": {
   "display_name": "Python 3 (ipykernel)",
   "language": "python",
   "name": "python3"
  },
  "language_info": {
   "codemirror_mode": {
    "name": "ipython",
    "version": 3
   },
   "file_extension": ".py",
   "mimetype": "text/x-python",
   "name": "python",
   "nbconvert_exporter": "python",
   "pygments_lexer": "ipython3",
   "version": "3.11.7"
  }
 },
 "nbformat": 4,
 "nbformat_minor": 5
}
